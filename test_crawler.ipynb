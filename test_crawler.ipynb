{
 "cells": [
  {
   "cell_type": "code",
   "execution_count": 82,
   "metadata": {},
   "outputs": [],
   "source": [
    "import os\n",
    "import requests\n",
    "import pandas as pd\n",
    "from bs4 import BeautifulSoup"
   ]
  },
  {
   "cell_type": "code",
   "execution_count": 83,
   "metadata": {},
   "outputs": [
    {
     "data": {
      "text/plain": [
       "200"
      ]
     },
     "execution_count": 83,
     "metadata": {},
     "output_type": "execute_result"
    }
   ],
   "source": [
    "target_url = \"https://www.finder.bupa.co.uk/Consultant/search/?order+=rel&rpp=1&giottoFormFlag_consultant=1\"\n",
    "req_header = {'User-Agent': 'Mozilla/5.0 (X11; Linux x86_64) AppleWebKit/537.11 (KHTML, like Gecko) Chrome/23.0.1271.64 Safari/537.11',\n",
    "       'Accept': 'text/html,application/xhtml+xml,application/xml;q=0.9,*/*;q=0.8',\n",
    "       'Accept-Charset': 'ISO-8859-1,utf-8;q=0.7,*;q=0.3',\n",
    "       'Accept-Encoding': 'none',\n",
    "       'Accept-Language': 'en-US,en;q=0.8',\n",
    "       'Connection': 'keep-alive' }\n",
    "main_page = requests.get(url=target_url, headers=req_header)\n",
    "main_page.status_code"
   ]
  },
  {
   "cell_type": "code",
   "execution_count": 84,
   "metadata": {},
   "outputs": [
    {
     "name": "stdout",
     "output_type": "stream",
     "text": [
      "31092\n"
     ]
    }
   ],
   "source": [
    "# Check the maximum number of consultants available\n",
    "main_page = BeautifulSoup(main_page.text, 'html.parser')\n",
    "main_page = main_page.findAll(id = 'list-displaying')\n",
    "max_list = int(main_page[0].get_text()[52:57])\n",
    "print(max_list)"
   ]
  },
  {
   "cell_type": "code",
   "execution_count": 100,
   "metadata": {},
   "outputs": [
    {
     "name": "stdout",
     "output_type": "stream",
     "text": [
      "288167\n"
     ]
    }
   ],
   "source": [
    "# Initialize variables for requests loop\n",
    "page_code = []\n",
    "consultant_name = []\n",
    "df = pd.read_csv('consultant_list_consolidated.csv')\n",
    "i = df['Code'].iloc[-1] + 1 # get last stopped page code\n",
    "# i = 140000\n",
    "print(i)"
   ]
  },
  {
   "cell_type": "code",
   "execution_count": 96,
   "metadata": {},
   "outputs": [],
   "source": [
    "# Loop to get the list of page codes\n",
    "while i<300000:\n",
    "    test_url = \"https://www.finder.bupa.co.uk/Consultant/View/\" + str(i)\n",
    "    test_request = requests.get(url=test_url, headers=req_header)\n",
    "    if test_request.status_code == 200:\n",
    "        page_code.append(i)\n",
    "        page = BeautifulSoup(test_request.text, 'html.parser')\n",
    "        page = page.findAll(class_ = 'cnwrpt')\n",
    "        consultant_name.append(page[0].get_text())\n",
    "    i = i + 1"
   ]
  },
  {
   "cell_type": "code",
   "execution_count": 97,
   "metadata": {},
   "outputs": [
    {
     "name": "stdout",
     "output_type": "stream",
     "text": [
      "300000\n"
     ]
    }
   ],
   "source": [
    "print(i)"
   ]
  },
  {
   "cell_type": "code",
   "execution_count": 98,
   "metadata": {},
   "outputs": [
    {
     "data": {
      "text/html": [
       "<div>\n",
       "<style scoped>\n",
       "    .dataframe tbody tr th:only-of-type {\n",
       "        vertical-align: middle;\n",
       "    }\n",
       "\n",
       "    .dataframe tbody tr th {\n",
       "        vertical-align: top;\n",
       "    }\n",
       "\n",
       "    .dataframe thead th {\n",
       "        text-align: right;\n",
       "    }\n",
       "</style>\n",
       "<table border=\"1\" class=\"dataframe\">\n",
       "  <thead>\n",
       "    <tr style=\"text-align: right;\">\n",
       "      <th></th>\n",
       "      <th>Code</th>\n",
       "      <th>Consultant Name</th>\n",
       "    </tr>\n",
       "  </thead>\n",
       "  <tbody>\n",
       "    <tr>\n",
       "      <th>0</th>\n",
       "      <td>283807</td>\n",
       "      <td>Mr Paolo Bosco</td>\n",
       "    </tr>\n",
       "    <tr>\n",
       "      <th>1</th>\n",
       "      <td>283825</td>\n",
       "      <td>Dr Imran Mannan</td>\n",
       "    </tr>\n",
       "    <tr>\n",
       "      <th>2</th>\n",
       "      <td>283845</td>\n",
       "      <td>Dr Klaartje Kok</td>\n",
       "    </tr>\n",
       "    <tr>\n",
       "      <th>3</th>\n",
       "      <td>283865</td>\n",
       "      <td>Dr David Thomas</td>\n",
       "    </tr>\n",
       "    <tr>\n",
       "      <th>4</th>\n",
       "      <td>283885</td>\n",
       "      <td>Dr Carrie Emery</td>\n",
       "    </tr>\n",
       "  </tbody>\n",
       "</table>\n",
       "</div>"
      ],
      "text/plain": [
       "     Code  Consultant Name\n",
       "0  283807   Mr Paolo Bosco\n",
       "1  283825  Dr Imran Mannan\n",
       "2  283845  Dr Klaartje Kok\n",
       "3  283865  Dr David Thomas\n",
       "4  283885  Dr Carrie Emery"
      ]
     },
     "execution_count": 98,
     "metadata": {},
     "output_type": "execute_result"
    }
   ],
   "source": [
    "# Store results in dataframe\n",
    "df_new = pd.DataFrame({'Code': page_code, 'Consultant Name': consultant_name})\n",
    "df_new.head()"
   ]
  },
  {
   "cell_type": "code",
   "execution_count": 99,
   "metadata": {},
   "outputs": [],
   "source": [
    "# Append to an existing CSV\n",
    "# if os.path.exists('consultant_list.csv'):\n",
    "#   os.remove('consultant_list.csv')\n",
    "df_new.to_csv('consultant_list_consolidated.csv', mode='a', index=False, header=False) "
   ]
  }
 ],
 "metadata": {
  "kernelspec": {
   "display_name": "Python 3.8.6 64-bit",
   "language": "python",
   "name": "python3"
  },
  "language_info": {
   "codemirror_mode": {
    "name": "ipython",
    "version": 3
   },
   "file_extension": ".py",
   "mimetype": "text/x-python",
   "name": "python",
   "nbconvert_exporter": "python",
   "pygments_lexer": "ipython3",
   "version": "3.8.6"
  },
  "orig_nbformat": 4,
  "vscode": {
   "interpreter": {
    "hash": "f37bc9ffadae189cffa70f263327c66d779bb8e8b6eac810deca82a51cde7c45"
   }
  }
 },
 "nbformat": 4,
 "nbformat_minor": 2
}
