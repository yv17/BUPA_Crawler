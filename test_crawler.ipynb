{
 "cells": [
  {
   "cell_type": "code",
   "execution_count": 53,
   "metadata": {},
   "outputs": [],
   "source": [
    "import os\n",
    "import requests\n",
    "import pandas as pd\n",
    "from bs4 import BeautifulSoup"
   ]
  },
  {
   "cell_type": "code",
   "execution_count": 54,
   "metadata": {},
   "outputs": [
    {
     "data": {
      "text/plain": [
       "200"
      ]
     },
     "execution_count": 54,
     "metadata": {},
     "output_type": "execute_result"
    }
   ],
   "source": [
    "target_url = \"https://www.finder.bupa.co.uk/Consultant/search/?order+=rel&rpp=1&giottoFormFlag_consultant=1\"\n",
    "req_header = {'User-Agent': 'Mozilla/5.0 (X11; Linux x86_64) AppleWebKit/537.11 (KHTML, like Gecko) Chrome/23.0.1271.64 Safari/537.11',\n",
    "       'Accept': 'text/html,application/xhtml+xml,application/xml;q=0.9,*/*;q=0.8',\n",
    "       'Accept-Charset': 'ISO-8859-1,utf-8;q=0.7,*;q=0.3',\n",
    "       'Accept-Encoding': 'none',\n",
    "       'Accept-Language': 'en-US,en;q=0.8',\n",
    "       'Connection': 'keep-alive' }\n",
    "main_page = requests.get(url=target_url, headers=req_header)\n",
    "main_page.status_code"
   ]
  },
  {
   "cell_type": "code",
   "execution_count": 55,
   "metadata": {},
   "outputs": [
    {
     "name": "stdout",
     "output_type": "stream",
     "text": [
      "31094\n"
     ]
    }
   ],
   "source": [
    "# Check the maximum number of consultants available\n",
    "main_page = BeautifulSoup(main_page.text, 'html.parser')\n",
    "main_page = main_page.findAll(id = 'list-displaying')\n",
    "max_list = int(main_page[0].get_text()[52:57])\n",
    "print(max_list)"
   ]
  },
  {
   "cell_type": "code",
   "execution_count": 56,
   "metadata": {},
   "outputs": [
    {
     "name": "stdout",
     "output_type": "stream",
     "text": [
      "84458\n"
     ]
    }
   ],
   "source": [
    "# Initialize variables for requests loop\n",
    "page_code = []\n",
    "consultant_name = []\n",
    "df = pd.read_csv('consultant_list_consolidated.csv')\n",
    "i = df['Code'].iloc[-1] + 1 # get last stopped page code\n",
    "print(i)"
   ]
  },
  {
   "cell_type": "code",
   "execution_count": null,
   "metadata": {},
   "outputs": [],
   "source": [
    "# Loop to get the list of page codes\n",
    "while (len(page_code) != 2000):\n",
    "    test_url = \"https://www.finder.bupa.co.uk/Consultant/View/\" + str(i)\n",
    "    test_request = requests.get(url=test_url, headers=req_header)\n",
    "    if test_request.status_code == 200:\n",
    "        page_code.append(i)\n",
    "        page = BeautifulSoup(test_request.text, 'html.parser')\n",
    "        page = page.findAll(class_ = 'cnwrpt')\n",
    "        consultant_name.append(page[0].get_text())\n",
    "    i = i + 1"
   ]
  },
  {
   "cell_type": "code",
   "execution_count": 61,
   "metadata": {},
   "outputs": [
    {
     "data": {
      "text/html": [
       "<div>\n",
       "<style scoped>\n",
       "    .dataframe tbody tr th:only-of-type {\n",
       "        vertical-align: middle;\n",
       "    }\n",
       "\n",
       "    .dataframe tbody tr th {\n",
       "        vertical-align: top;\n",
       "    }\n",
       "\n",
       "    .dataframe thead th {\n",
       "        text-align: right;\n",
       "    }\n",
       "</style>\n",
       "<table border=\"1\" class=\"dataframe\">\n",
       "  <thead>\n",
       "    <tr style=\"text-align: right;\">\n",
       "      <th></th>\n",
       "      <th>Code</th>\n",
       "      <th>Consultant Name</th>\n",
       "    </tr>\n",
       "  </thead>\n",
       "  <tbody>\n",
       "    <tr>\n",
       "      <th>0</th>\n",
       "      <td>84460</td>\n",
       "      <td>Dr Shyam Balasubramanian</td>\n",
       "    </tr>\n",
       "    <tr>\n",
       "      <th>1</th>\n",
       "      <td>84462</td>\n",
       "      <td>Mrs Helen M Caulfield</td>\n",
       "    </tr>\n",
       "    <tr>\n",
       "      <th>2</th>\n",
       "      <td>84463</td>\n",
       "      <td>Mr Andrew Baird</td>\n",
       "    </tr>\n",
       "    <tr>\n",
       "      <th>3</th>\n",
       "      <td>84467</td>\n",
       "      <td>Mr Niall McGurk</td>\n",
       "    </tr>\n",
       "    <tr>\n",
       "      <th>4</th>\n",
       "      <td>84484</td>\n",
       "      <td>Dr Jayashree Basu</td>\n",
       "    </tr>\n",
       "  </tbody>\n",
       "</table>\n",
       "</div>"
      ],
      "text/plain": [
       "    Code           Consultant Name\n",
       "0  84460  Dr Shyam Balasubramanian\n",
       "1  84462     Mrs Helen M Caulfield\n",
       "2  84463           Mr Andrew Baird\n",
       "3  84467           Mr Niall McGurk\n",
       "4  84484         Dr Jayashree Basu"
      ]
     },
     "execution_count": 61,
     "metadata": {},
     "output_type": "execute_result"
    }
   ],
   "source": [
    "# Store results in dataframe\n",
    "df_new = pd.DataFrame({'Code': page_code, 'Consultant Name': consultant_name})\n",
    "df_new .head()"
   ]
  },
  {
   "cell_type": "code",
   "execution_count": null,
   "metadata": {},
   "outputs": [],
   "source": [
    "# Append to an existing CSV\n",
    "# if os.path.exists('consultant_list.csv'):\n",
    "#   os.remove('consultant_list.csv')\n",
    "df_new.to_csv('consultant_list_consolidated.csv', mode='a', index=False, header=False) "
   ]
  }
 ],
 "metadata": {
  "kernelspec": {
   "display_name": "Python 3.8.6 64-bit",
   "language": "python",
   "name": "python3"
  },
  "language_info": {
   "codemirror_mode": {
    "name": "ipython",
    "version": 3
   },
   "file_extension": ".py",
   "mimetype": "text/x-python",
   "name": "python",
   "nbconvert_exporter": "python",
   "pygments_lexer": "ipython3",
   "version": "3.8.6"
  },
  "orig_nbformat": 4,
  "vscode": {
   "interpreter": {
    "hash": "f37bc9ffadae189cffa70f263327c66d779bb8e8b6eac810deca82a51cde7c45"
   }
  }
 },
 "nbformat": 4,
 "nbformat_minor": 2
}
