{
 "cells": [
  {
   "cell_type": "code",
   "execution_count": 200,
   "metadata": {},
   "outputs": [],
   "source": [
    "import requests\n",
    "import pandas as pd\n",
    "import numpy as np\n",
    "from bs4 import BeautifulSoup\n",
    "from selenium import webdriver\n",
    "from selenium.webdriver.support.ui import WebDriverWait\n",
    "from selenium.webdriver.support import expected_conditions as EC\n",
    "from selenium.webdriver.common.by import By"
   ]
  },
  {
   "cell_type": "code",
   "execution_count": 207,
   "metadata": {},
   "outputs": [],
   "source": [
    "options = webdriver.ChromeOptions()\n",
    "options.add_argument('--ignore-certificate-errors')\n",
    "options.add_argument('--incognito')\n",
    "options.add_argument('--headless')\n",
    "driver = webdriver.Chrome(options=options)"
   ]
  },
  {
   "cell_type": "code",
   "execution_count": 242,
   "metadata": {},
   "outputs": [],
   "source": [
    "# Initialize variables\n",
    "req_header = {'User-Agent': 'Mozilla/5.0 (X11; Linux x86_64) AppleWebKit/537.11 (KHTML, like Gecko) Chrome/23.0.1271.64 Safari/537.11',\n",
    "       'Accept': 'text/html,application/xhtml+xml,application/xml;q=0.9,*/*;q=0.8',\n",
    "       'Accept-Charset': 'ISO-8859-1,utf-8;q=0.7,*;q=0.3',\n",
    "       'Accept-Encoding': 'none',\n",
    "       'Accept-Language': 'en-US,en;q=0.8',\n",
    "       'Connection': 'keep-alive' }\n",
    "\n",
    "df = pd.read_csv('consultant_list_consolidated.csv')\n",
    "\n",
    "code = []\n",
    "gmc_code = []\n",
    "consultant_name = []\n",
    "specialty = []\n",
    "specialise_in = []\n",
    "specialise_in2 = []\n",
    "badges = []\n",
    "practise_at_n = []"
   ]
  },
  {
   "cell_type": "code",
   "execution_count": 241,
   "metadata": {},
   "outputs": [
    {
     "name": "stdout",
     "output_type": "stream",
     "text": [
      "Practises at 2 hospitals/clinics\n"
     ]
    }
   ],
   "source": [
    "test_url = 'https://www.finder.bupa.co.uk/Consultant/View/80'\n",
    "driver.get(test_url)\n",
    "wait = WebDriverWait(driver, 10)\n",
    "element = wait.until(EC.presence_of_element_located((By.ID, \"map-info-holder\")))\n",
    "page = BeautifulSoup(driver.page_source, 'html.parser')\n",
    "sp = page.find(id = 'map-info-holder')\n",
    "sp = sp.find('h4')\n",
    "sp = sp.get_text().split('   ', 1)[0].strip()\n",
    "print(' '.join(sp.split()))"
   ]
  },
  {
   "cell_type": "code",
   "execution_count": 243,
   "metadata": {},
   "outputs": [],
   "source": [
    "# Full scraping loop\n",
    "for i, j in enumerate(df['Code']):\n",
    "    test_url = 'https://www.finder.bupa.co.uk/Consultant/View/' + str(j)\n",
    "    test_request = requests.get(url=test_url, headers=req_header)\n",
    "    if test_request.status_code == 200:\n",
    "        page = BeautifulSoup(test_request.text, 'html.parser')\n",
    "\n",
    "        # GMC Code\n",
    "        # gmc = page.find(id = 'pnum')\n",
    "        # gmc_code.append(gmc.get_text())\n",
    "\n",
    "        #Consultant Name\n",
    "        cn = page.find(class_ = 'cnwrpt')\n",
    "        consultant_name.append(cn.get_text())\n",
    "\n",
    "        # GMC Code & Specialty\n",
    "        sp = page.find('h3')\n",
    "        sp = sp.get_text().split(' ',1)[1]\n",
    "        sp = sp.strip().split('  ', 1)\n",
    "        specialty.append(sp[0].strip())\n",
    "        gmc_code.append(sp[1].strip())\n",
    "\n",
    "        #Specialises in & BUPA Specialist\n",
    "        sp_in = page.findAll('ul', class_ = 'list third')\n",
    "        if sp_in:\n",
    "            specialise_in.append(sp_in[0].get_text().strip())\n",
    "            specialise_in2.append(sp_in[1].get_text().strip())\n",
    "        else:\n",
    "            specialise_in.append(np.nan)\n",
    "            specialise_in2.append(np.nan)\n",
    "\n",
    "        #Badges\n",
    "        bdg = page.find(class_ = 'has-is-box')\n",
    "        bdg = bdg.findAll('li')\n",
    "        badges_text = ''\n",
    "        for k in bdg:\n",
    "            k = k.get_text()\n",
    "            k = ' '.join(k.split())\n",
    "            if badges_text:\n",
    "                badges_text = '\\n'.join([badges_text, k])\n",
    "            else:\n",
    "                badges_text = badges_text + k\n",
    "        badges.append(badges_text)\n",
    "\n",
    "        #Practises at N facilities\n",
    "        driver.get(test_url)\n",
    "        wait = WebDriverWait(driver, 2)\n",
    "        element = wait.until(EC.presence_of_element_located((By.ID, \"map-info-holder\")))\n",
    "        page2 = BeautifulSoup(driver.page_source, 'html.parser')\n",
    "        prac_at_n = page2.find(id = 'map-info-holder')\n",
    "        prac_at_n = prac_at_n.find('h4')\n",
    "        prac_at_n = prac_at_n.get_text().split('   ', 1)[0].strip()\n",
    "        practise_at_n.append(' '.join(prac_at_n.split()))\n",
    "\n",
    "    if i == 2:\n",
    "        break\n"
   ]
  },
  {
   "cell_type": "code",
   "execution_count": null,
   "metadata": {},
   "outputs": [
    {
     "data": {
      "text/html": [
       "<div>\n",
       "<style scoped>\n",
       "    .dataframe tbody tr th:only-of-type {\n",
       "        vertical-align: middle;\n",
       "    }\n",
       "\n",
       "    .dataframe tbody tr th {\n",
       "        vertical-align: top;\n",
       "    }\n",
       "\n",
       "    .dataframe thead th {\n",
       "        text-align: right;\n",
       "    }\n",
       "</style>\n",
       "<table border=\"1\" class=\"dataframe\">\n",
       "  <thead>\n",
       "    <tr style=\"text-align: right;\">\n",
       "      <th></th>\n",
       "      <th>Page Code</th>\n",
       "      <th>GMC Code</th>\n",
       "      <th>Name</th>\n",
       "      <th>Title</th>\n",
       "      <th>First Name</th>\n",
       "      <th>Last Name</th>\n",
       "      <th>Specialty</th>\n",
       "      <th>Specialise In</th>\n",
       "      <th>BUPA Specialist</th>\n",
       "      <th>Badges</th>\n",
       "    </tr>\n",
       "  </thead>\n",
       "  <tbody>\n",
       "    <tr>\n",
       "      <th>0</th>\n",
       "      <td>80</td>\n",
       "      <td>00003883</td>\n",
       "      <td>Mr Ian J Bayley</td>\n",
       "      <td>Mr</td>\n",
       "      <td>Ian</td>\n",
       "      <td>J Bayley</td>\n",
       "      <td>Trauma &amp; orthopaedic surgery</td>\n",
       "      <td>NaN</td>\n",
       "      <td>NaN</td>\n",
       "      <td>Not Fee assured\\nAwaiting verification</td>\n",
       "    </tr>\n",
       "    <tr>\n",
       "      <th>1</th>\n",
       "      <td>385</td>\n",
       "      <td>00041676</td>\n",
       "      <td>Dr Maurice Atkins</td>\n",
       "      <td>Dr</td>\n",
       "      <td>Maurice</td>\n",
       "      <td>Atkins</td>\n",
       "      <td>General psychiatry</td>\n",
       "      <td>NaN</td>\n",
       "      <td>NaN</td>\n",
       "      <td>Fee assured\\nAwaiting verification</td>\n",
       "    </tr>\n",
       "    <tr>\n",
       "      <th>2</th>\n",
       "      <td>628</td>\n",
       "      <td>00070243</td>\n",
       "      <td>Dr Hedley Berry</td>\n",
       "      <td>Dr</td>\n",
       "      <td>Hedley</td>\n",
       "      <td>Berry</td>\n",
       "      <td>Rheumatology</td>\n",
       "      <td>NaN</td>\n",
       "      <td>NaN</td>\n",
       "      <td>Fee assured\\nVerified account</td>\n",
       "    </tr>\n",
       "  </tbody>\n",
       "</table>\n",
       "</div>"
      ],
      "text/plain": [
       "   Page Code  GMC Code               Name Title First Name Last Name  \\\n",
       "0         80  00003883    Mr Ian J Bayley    Mr        Ian  J Bayley   \n",
       "1        385  00041676  Dr Maurice Atkins    Dr    Maurice    Atkins   \n",
       "2        628  00070243    Dr Hedley Berry    Dr     Hedley     Berry   \n",
       "\n",
       "                      Specialty  Specialise In  BUPA Specialist  \\\n",
       "0  Trauma & orthopaedic surgery            NaN              NaN   \n",
       "1            General psychiatry            NaN              NaN   \n",
       "2                  Rheumatology            NaN              NaN   \n",
       "\n",
       "                                   Badges  \n",
       "0  Not Fee assured\\nAwaiting verification  \n",
       "1      Fee assured\\nAwaiting verification  \n",
       "2           Fee assured\\nVerified account  "
      ]
     },
     "execution_count": 147,
     "metadata": {},
     "output_type": "execute_result"
    }
   ],
   "source": [
    "# Store in dataframe\n",
    "df_new = pd.DataFrame()\n",
    "df_new['Page Code'] = df['Code'][:i+1]\n",
    "df_new['GMC Code'] = gmc_code\n",
    "df_new['Name'] = consultant_name\n",
    "df_new[['Title', 'First Name', 'Last Name']] = df_new['Name'].str.split(' ', 2, expand=True)\n",
    "df_new['Specialty'] = specialty\n",
    "df_new['Specialise In'] = specialise_in\n",
    "df_new['BUPA Specialist'] = specialise_in2\n",
    "df_new['Badges'] = badges\n",
    "df_new['Practises at N facilities'] = practise_at_n\n",
    "df_new.head()"
   ]
  },
  {
   "cell_type": "code",
   "execution_count": null,
   "metadata": {},
   "outputs": [],
   "source": [
    "# df_new.to_csv('consultant_directory.csv') "
   ]
  },
  {
   "cell_type": "code",
   "execution_count": null,
   "metadata": {},
   "outputs": [],
   "source": []
  }
 ],
 "metadata": {
  "kernelspec": {
   "display_name": "Python 3.8.6 64-bit",
   "language": "python",
   "name": "python3"
  },
  "language_info": {
   "codemirror_mode": {
    "name": "ipython",
    "version": 3
   },
   "file_extension": ".py",
   "mimetype": "text/x-python",
   "name": "python",
   "nbconvert_exporter": "python",
   "pygments_lexer": "ipython3",
   "version": "3.8.6"
  },
  "orig_nbformat": 4,
  "vscode": {
   "interpreter": {
    "hash": "f37bc9ffadae189cffa70f263327c66d779bb8e8b6eac810deca82a51cde7c45"
   }
  }
 },
 "nbformat": 4,
 "nbformat_minor": 2
}
